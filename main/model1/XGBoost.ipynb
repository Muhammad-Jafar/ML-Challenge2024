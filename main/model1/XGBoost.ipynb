{
 "cells": [
  {
   "metadata": {
    "id": "b43bbe041adcc710"
   },
   "cell_type": "markdown",
   "source": "## XGBoost model",
   "id": "b43bbe041adcc710"
  },
  {
   "cell_type": "code",
   "execution_count": null,
   "id": "initial_id",
   "metadata": {
    "collapsed": true,
    "id": "initial_id"
   },
   "outputs": [],
   "source": [
    "print(\"Hello world\")"
   ]
  },
  {
   "cell_type": "code",
   "source": [
    "print(\"Tes for push to github\")"
   ],
   "metadata": {
    "id": "f2W94B6P6ICo"
   },
   "id": "f2W94B6P6ICo",
   "execution_count": null,
   "outputs": []
  }
 ],
 "metadata": {
  "kernelspec": {
   "display_name": "Python 3",
   "language": "python",
   "name": "python3"
  },
  "language_info": {
   "codemirror_mode": {
    "name": "ipython",
    "version": 2
   },
   "file_extension": ".py",
   "mimetype": "text/x-python",
   "name": "python",
   "nbconvert_exporter": "python",
   "pygments_lexer": "ipython2",
   "version": "2.7.6"
  },
  "colab": {
   "provenance": []
  }
 },
 "nbformat": 4,
 "nbformat_minor": 5
}
